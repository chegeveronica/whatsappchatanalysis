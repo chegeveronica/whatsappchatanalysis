{
  "nbformat": 4,
  "nbformat_minor": 0,
  "metadata": {
    "colab": {
      "name": "WhatsappChatAnalysis.ipynb",
      "provenance": [],
      "authorship_tag": "ABX9TyOrM5Zrurl8+2/C0TxsJ3OJ",
      "include_colab_link": true
    },
    "kernelspec": {
      "name": "python3",
      "display_name": "Python 3"
    },
    "language_info": {
      "name": "python"
    }
  },
  "cells": [
    {
      "cell_type": "markdown",
      "metadata": {
        "id": "view-in-github",
        "colab_type": "text"
      },
      "source": [
        "<a href=\"https://colab.research.google.com/github/chegeveronica/whatsappchatanalysis/blob/main/WhatsappChatAnalysis.ipynb\" target=\"_parent\"><img src=\"https://colab.research.google.com/assets/colab-badge.svg\" alt=\"Open In Colab\"/></a>"
      ]
    },
    {
      "cell_type": "code",
      "execution_count": 58,
      "metadata": {
        "id": "Or86IrJTu8jZ"
      },
      "outputs": [],
      "source": [
        "import re\n",
        "import regex\n",
        "import pandas as pd\n",
        "import numpy as np\n",
        "import emoji\n",
        "import plotly.express as px\n",
        "from collections import Counter\n",
        "import matplotlib.pyplot as plt\n",
        "from os import path\n",
        "from PIL import Image\n",
        "import datetime\n",
        "from wordcloud import WordCloud, STOPWORDS, ImageColorGenerator\n",
        "%matplotlib inline"
      ]
    },
    {
      "cell_type": "code",
      "source": [
        "!pip install emoji"
      ],
      "metadata": {
        "colab": {
          "base_uri": "https://localhost:8080/"
        },
        "id": "f_fNdA47rHID",
        "outputId": "f6da4dda-8525-4575-caba-c4fe98217c0a"
      },
      "execution_count": 59,
      "outputs": [
        {
          "output_type": "stream",
          "name": "stdout",
          "text": [
            "Looking in indexes: https://pypi.org/simple, https://us-python.pkg.dev/colab-wheels/public/simple/\n",
            "Requirement already satisfied: emoji in /usr/local/lib/python3.7/dist-packages (2.0.0)\n"
          ]
        }
      ]
    },
    {
      "cell_type": "code",
      "source": [
        "#function to get the date and time\n",
        "def startsWithDateAndTimeAndroid(s):\n",
        "    pattern = '^([0-9]+)(\\/)([0-9]+)(\\/)([0-9]+), ([0-9]+):([0-9]+)[ ]?(AM|PM|am|pm)? -' \n",
        "    result = re.match(pattern, s)\n",
        "    if result:\n",
        "        return True\n",
        "    return False"
      ],
      "metadata": {
        "id": "39ojUNNKFHOm"
      },
      "execution_count": 60,
      "outputs": []
    },
    {
      "cell_type": "code",
      "source": [
        "#format of date,time - author: message\n",
        "#get the author\n",
        "def FindAuthor(s):\n",
        "  s=s.split(\":\")\n",
        "  if len(s)==2:\n",
        "    return True\n",
        "  else:\n",
        "    return False"
      ],
      "metadata": {
        "id": "sNO6yg11FW9M"
      },
      "execution_count": 61,
      "outputs": []
    },
    {
      "cell_type": "code",
      "source": [
        "#get data from an android\n",
        "\n",
        "def getDataPointAndroid(line):   \n",
        "    splitLine = line.split(' - ') \n",
        "    dateTime = splitLine[0]\n",
        "    date, time = dateTime.split(', ') \n",
        "    message = ' '.join(splitLine[1:])\n",
        "    if FindAuthor(message): \n",
        "        splitMessage = message.split(':') \n",
        "        author = splitMessage[0] \n",
        "        message = ' '.join(splitMessage[1:])\n",
        "    else:\n",
        "        author = None\n",
        "    return date, time, author, message"
      ],
      "metadata": {
        "id": "9OaVnF6JF9O-"
      },
      "execution_count": 62,
      "outputs": []
    },
    {
      "cell_type": "code",
      "source": [
        "#get data for ios\n",
        "# def getDataPointios(line):\n",
        "#     splitLine = line.split('] ')\n",
        "#     dateTime = splitLine[0]\n",
        "#     if ',' in dateTime:\n",
        "#         date, time = dateTime.split(',')\n",
        "#     else:\n",
        "#         date, time = dateTime.split(' ')\n",
        "#     message = ' '.join(splitLine[1:])\n",
        "#     if FindAuthor(message):\n",
        "#         splitMessage = message.split(':')\n",
        "#         author = splitMessage[0]\n",
        "#         message = ' '.join(splitMessage[1:])\n",
        "#     else:\n",
        "#         author = None\n",
        "#     if time[5]==\":\":\n",
        "#         time = time[:5]+time[-3:]\n",
        "#     else:\n",
        "#         if 'AM' in time or 'PM' in time:\n",
        "#             time = time[:6]+time[-3:]\n",
        "#         else:\n",
        "#             time = time[:6]\n",
        "#     return date, time, author, message"
      ],
      "metadata": {
        "id": "z6ZgJB-JGWpu"
      },
      "execution_count": 7,
      "outputs": []
    },
    {
      "cell_type": "code",
      "source": [
        "#get the emojis\n",
        "\n",
        "def split_count(text):\n",
        "\n",
        "    emoji_list = []\n",
        "    data = regex.findall(r'\\X', text)\n",
        "    for word in data:\n",
        "        if any(char in emoji.distinct_emoji_list(text) for char in word):\n",
        "            emoji_list.append(word)\n",
        "\n",
        "    return emoji_list"
      ],
      "metadata": {
        "id": "MaUMFjV9GgnG"
      },
      "execution_count": 64,
      "outputs": []
    },
    {
      "cell_type": "code",
      "source": [
        "#upload the data and get analysis\n",
        "\n",
        "parsedData = [] # List for the data\n",
        "conversationPath = '/content/chat.txt' \n",
        "with open(conversationPath, encoding=\"utf-8\") as fp:\n",
        "    device=''\n",
        "    first=fp.readline()\n",
        "    print(first)\n",
        "    # if '[' in first:\n",
        "    #   device='ios'\n",
        "    # else:\n",
        "    device=\"android\"\n",
        "    fp.readline() \n",
        "    messageBuffer = [] \n",
        "    date, time, author = None, None, None \n",
        "    while True:\n",
        "        line = fp.readline() \n",
        "        if not line: \n",
        "            break\n",
        "        # if device==\"ios\":\n",
        "        #   line = line.strip()\n",
        "        #   if startsWithDateAndTimeios(line):\n",
        "        #     if len(messageBuffer) > 0:\n",
        "        #       parsedData.append([date, time, author, ' '.join(messageBuffer)])\n",
        "        #     messageBuffer.clear()\n",
        "        #     date, time, author, message = getDataPointios(line)\n",
        "        #     messageBuffer.append(message)\n",
        "        #   else:\n",
        "        #     line= (line.encode('ascii', 'ignore')).decode(\"utf-8\")\n",
        "        #     if startsWithDateAndTimeios(line):\n",
        "        #       if len(messageBuffer) > 0:\n",
        "        #         parsedData.append([date, time, author, ' '.join(messageBuffer)])\n",
        "        #       messageBuffer.clear()\n",
        "        #       date, time, author, message = getDataPointios(line)\n",
        "        #       messageBuffer.append(message)\n",
        "        #     else:\n",
        "        #       messageBuffer.append(line)\n",
        "        # else:\n",
        "        line = line.strip()\n",
        "        if startsWithDateAndTimeAndroid(line):\n",
        "          if len(messageBuffer) > 0:\n",
        "            parsedData.append([date, time, author, ' '.join(messageBuffer)])\n",
        "          messageBuffer.clear()\n",
        "          date, time, author, message = getDataPointAndroid(line)\n",
        "          messageBuffer.append(message)\n",
        "        else:\n",
        "          messageBuffer.append(line)"
      ],
      "metadata": {
        "id": "Yplj5lpNJKIh",
        "colab": {
          "base_uri": "https://localhost:8080/"
        },
        "outputId": "61fc63b6-6f9c-4010-b7ba-7b2a8519b4ae"
      },
      "execution_count": 67,
      "outputs": [
        {
          "output_type": "stream",
          "name": "stdout",
          "text": [
            "26/01/2022, 10:11 - Messages and calls are end-to-end encrypted. No one outside of this chat, not even WhatsApp, can read or listen to them. Tap to learn more.\n",
            "\n"
          ]
        }
      ]
    },
    {
      "cell_type": "code",
      "source": [
        "# if device =='android':\n",
        "df = pd.DataFrame(parsedData, columns=['Date', 'Time', 'Author', 'Message'])\n",
        "df[\"Date\"] = pd.to_datetime(df[\"Date\"])\n",
        "df = df.dropna()\n",
        "df[\"emoji\"] = df[\"Message\"].apply(split_count)\n",
        "URLPATTERN = r'(https?://\\S+)'\n",
        "df['urlcount'] = df.Message.apply(lambda x: re.findall(URLPATTERN, x)).str.len()\n",
        "# else:\n",
        "#         df = pd.DataFrame(parsedData, columns=['Date', 'Time', 'Author', 'Message']) # Initialising a pandas Dataframe.\n",
        "#         df = df.dropna()\n",
        "#         df[\"Date\"] = df[\"Date\"].apply(dateconv)\n",
        "#         df[\"Date\"] = pd.to_datetime(df[\"Date\"],format='%Y-%m-%d')\n",
        "#         df[\"emoji\"] = df[\"Message\"].apply(split_count)\n",
        "#         URLPATTERN = r'(https?://\\S+)'\n",
        "#         df['urlcount'] = df.Message.apply(lambda x: re.findall(URLPATTERN, x)).str.len()"
      ],
      "metadata": {
        "id": "1eiAtQZPqSNU"
      },
      "execution_count": 68,
      "outputs": []
    },
    {
      "cell_type": "code",
      "source": [
        "#df.head(10)"
      ],
      "metadata": {
        "id": "_B6K4Z1h2waw"
      },
      "execution_count": 90,
      "outputs": []
    },
    {
      "cell_type": "code",
      "source": [
        "#df.info                                              #info about the group chat"
      ],
      "metadata": {
        "id": "S_PfEbBr3Jsy"
      },
      "execution_count": 91,
      "outputs": []
    },
    {
      "cell_type": "code",
      "source": [
        "#df.Author.unique()                                              #unique names of authors"
      ],
      "metadata": {
        "id": "l8qfoVra3rLD"
      },
      "execution_count": 92,
      "outputs": []
    },
    {
      "cell_type": "code",
      "source": [
        "df= df.dropna() #droppping null values\n",
        "#df.info"
      ],
      "metadata": {
        "id": "oNmF0Ab233jQ"
      },
      "execution_count": 93,
      "outputs": []
    },
    {
      "cell_type": "code",
      "source": [
        "total_messages = df.shape[0]\n",
        "print(total_messages)"
      ],
      "metadata": {
        "id": "FiJkY4_z4o30",
        "outputId": "7e609dd1-7bed-47dc-bb2f-197c9aae805f",
        "colab": {
          "base_uri": "https://localhost:8080/"
        }
      },
      "execution_count": 74,
      "outputs": [
        {
          "output_type": "stream",
          "name": "stdout",
          "text": [
            "6155\n"
          ]
        }
      ]
    },
    {
      "cell_type": "code",
      "source": [
        "media_messages = df[df['Message'] == '<Media omitted>'].shape[0]\n",
        "print(media_messages)"
      ],
      "metadata": {
        "id": "BlqMOVKV5TAB",
        "outputId": "e5b9696b-9fbd-4d59-9cf4-4c4d0f62e432",
        "colab": {
          "base_uri": "https://localhost:8080/"
        }
      },
      "execution_count": 75,
      "outputs": [
        {
          "output_type": "stream",
          "name": "stdout",
          "text": [
            "0\n"
          ]
        }
      ]
    },
    {
      "cell_type": "code",
      "source": [
        "emojis = sum(df['emoji'].str.len())\n",
        "print(emojis)"
      ],
      "metadata": {
        "id": "CvX7Ynm46DND",
        "outputId": "111def24-39a3-425e-9172-2f36e9d97e2b",
        "colab": {
          "base_uri": "https://localhost:8080/"
        }
      },
      "execution_count": 76,
      "outputs": [
        {
          "output_type": "stream",
          "name": "stdout",
          "text": [
            "4063\n"
          ]
        }
      ]
    },
    {
      "cell_type": "code",
      "source": [
        "URLPATTERN = r'(https?://\\S+)' #regex pattern matching with start with https\n",
        "df['urlcount'] = df.Message.apply(lambda x: re.findall(URLPATTERN, x)).str.len() #return url which matches with pattern and count it through lambda function\n",
        "links = np.sum(df.urlcount) #sumup all the links\n",
        "print(links)"
      ],
      "metadata": {
        "id": "Dzatw7jF6dgr",
        "outputId": "579fa126-7100-4039-c46b-678a09f2475d",
        "colab": {
          "base_uri": "https://localhost:8080/"
        }
      },
      "execution_count": 77,
      "outputs": [
        {
          "output_type": "stream",
          "name": "stdout",
          "text": [
            "3\n"
          ]
        }
      ]
    },
    {
      "cell_type": "code",
      "source": [
        "#separating text and media messages\n",
        "\n",
        "link_messages = df[df['urlcount'] > 0]\n",
        "media_messagesdf = df[(df['Message'] == '<Media omitted>') | (df['Message'] == '<image omitted>')|(df['Message'] == '<video omitted>')|(df['Message']== '<sticker omitted>')]\n",
        "deleted_messagesdf = df[(df['Message'] == 'This message was deleted') | df['Message'] == 'You deleted this message']\n",
        "messagesdf = df.drop(media_messagesdf.index)\n",
        "messagesdf = messagesdf.drop(deleted_messagesdf.index)\n",
        "messagesdf = messagesdf.drop(link_messages.index)\n",
        " "
      ],
      "metadata": {
        "id": "NseTJO4k7xAg"
      },
      "execution_count": 78,
      "outputs": []
    },
    {
      "cell_type": "code",
      "source": [
        "messagesdf.info()"
      ],
      "metadata": {
        "id": "Va2OEgIQ_UQ-",
        "outputId": "9efb38c1-6402-425c-998b-938199ea8541",
        "colab": {
          "base_uri": "https://localhost:8080/"
        }
      },
      "execution_count": 79,
      "outputs": [
        {
          "output_type": "stream",
          "name": "stdout",
          "text": [
            "<class 'pandas.core.frame.DataFrame'>\n",
            "Int64Index: 6152 entries, 0 to 6297\n",
            "Data columns (total 6 columns):\n",
            " #   Column    Non-Null Count  Dtype         \n",
            "---  ------    --------------  -----         \n",
            " 0   Date      6152 non-null   datetime64[ns]\n",
            " 1   Time      6152 non-null   object        \n",
            " 2   Author    6152 non-null   object        \n",
            " 3   Message   6152 non-null   object        \n",
            " 4   emoji     6152 non-null   object        \n",
            " 5   urlcount  6152 non-null   int64         \n",
            "dtypes: datetime64[ns](1), int64(1), object(4)\n",
            "memory usage: 336.4+ KB\n"
          ]
        }
      ]
    },
    {
      "cell_type": "code",
      "source": [
        "#calculate words and letters\n",
        "messagesdf['letter_count'] = messagesdf['Message'].apply(lambda s : len(s))\n",
        "messagesdf['word_count'] = messagesdf['Message'].apply(lambda s : len(s.split(' ')))\n",
        "messagesdf['Messagecount']=1"
      ],
      "metadata": {
        "id": "l2cnQiRX_jMt"
      },
      "execution_count": 80,
      "outputs": []
    },
    {
      "cell_type": "code",
      "source": [
        "#messagesdf.head(10)"
      ],
      "metadata": {
        "id": "1YNYviOSCJCe"
      },
      "execution_count": 94,
      "outputs": []
    },
    {
      "cell_type": "code",
      "source": [
        "messagesdf['emojicount'] = df['emoji'].str.len()\n",
        "print(messagesdf['emojicount'])"
      ],
      "metadata": {
        "id": "BatV0xDHCm8P",
        "outputId": "c7315114-0ca2-419f-ce15-d5fb42ba6640",
        "colab": {
          "base_uri": "https://localhost:8080/"
        }
      },
      "execution_count": 82,
      "outputs": [
        {
          "output_type": "stream",
          "name": "stdout",
          "text": [
            "0       0\n",
            "1       3\n",
            "2       1\n",
            "3       1\n",
            "4       0\n",
            "       ..\n",
            "6293    1\n",
            "6294    1\n",
            "6295    0\n",
            "6296    0\n",
            "6297    0\n",
            "Name: emojicount, Length: 6152, dtype: int64\n"
          ]
        }
      ]
    },
    {
      "cell_type": "code",
      "source": [
        "# authors analysis\n",
        "\n",
        "chat = messagesdf.Author.unique()\n",
        "for i in range(len(chat)):\n",
        "  #messages of a particular user\n",
        "  user_df = messagesdf[messagesdf['Author'] == chat[i]]\n",
        "  print(f'stats of {chat[i]} -')\n",
        "  #no. of messages sent, since row == no.of messages\n",
        "  print('messages sent', user_df.shape[0])\n",
        "  #word count\n",
        "  words_per_message = (np.sum(user_df['word_count']))/user_df.shape[0]\n",
        "  print('words_per_message:', words_per_message) \n",
        "  #media messages\n",
        "  media = media_messagesdf[media_messagesdf['Author'] == chat[i]].shape[0]\n",
        "  print('media messages sent:', media)\n",
        "  #total emojis\n",
        "  emojis = sum(user_df['emoji'].str.len())\n",
        "  print('Emojis sent:',emojis)\n",
        "  #total links\n",
        "  links = sum(link_messages[link_messages['Author'] == chat[i]]['urlcount'])\n",
        "  print('Links shared:', links)\n",
        "  print()"
      ],
      "metadata": {
        "id": "pyDZPNq5Dz0g",
        "outputId": "7e2d4fd1-3b05-4d73-fa47-f2d22a7bbce6",
        "colab": {
          "base_uri": "https://localhost:8080/"
        }
      },
      "execution_count": 83,
      "outputs": [
        {
          "output_type": "stream",
          "name": "stdout",
          "text": [
            "stats of Andrew -\n",
            "messages sent 3174\n",
            "words_per_message: 7.773471959672338\n",
            "media messages sent: 0\n",
            "Emojis sent: 1972\n",
            "Links shared: 3\n",
            "\n",
            "stats of vero -\n",
            "messages sent 2978\n",
            "words_per_message: 9.97951645399597\n",
            "media messages sent: 0\n",
            "Emojis sent: 2086\n",
            "Links shared: 0\n",
            "\n"
          ]
        }
      ]
    },
    {
      "cell_type": "code",
      "source": [
        "#Emojis analysis\n",
        "#unique emojis\n",
        "\n",
        "emojis_list = list(set([a for b in messagesdf.emoji for a in b]))\n",
        "total_emojis = len(emojis_list)\n",
        "print(total_emojis)"
      ],
      "metadata": {
        "id": "FXYxDLwUSEHb",
        "outputId": "1eaf4772-5cec-4b1f-b040-2620a8735450",
        "colab": {
          "base_uri": "https://localhost:8080/"
        }
      },
      "execution_count": 84,
      "outputs": [
        {
          "output_type": "stream",
          "name": "stdout",
          "text": [
            "68\n"
          ]
        }
      ]
    },
    {
      "cell_type": "code",
      "source": [
        "#most used emojis\n",
        "emojis_list = list([a for b in messagesdf.emoji for a in b])\n",
        "emoji_dict = dict(Counter(emojis_list))\n",
        "emoji_dict = sorted(emoji_dict.items(), key = lambda x: x[1], reverse=True)\n",
        "#print(emoji_dict) "
      ],
      "metadata": {
        "id": "yQEZqTIrdpam"
      },
      "execution_count": 103,
      "outputs": []
    },
    {
      "cell_type": "code",
      "source": [
        "emoji_df = pd.DataFrame(emoji_dict,columns=['emoji','count'])\n",
        "print(emoji_df.head(3))"
      ],
      "metadata": {
        "id": "Rz_pwBzMgUEF",
        "outputId": "6eaadaec-68f7-4f61-c637-87dc9777c01e",
        "colab": {
          "base_uri": "https://localhost:8080/"
        }
      },
      "execution_count": 95,
      "outputs": [
        {
          "output_type": "stream",
          "name": "stdout",
          "text": [
            "  emoji  count\n",
            "0     😂   1434\n",
            "1     😹    930\n",
            "2     😅    365\n"
          ]
        }
      ]
    },
    {
      "cell_type": "code",
      "source": [
        "#plot\n",
        "import plotly.express as px\n",
        "fig = px.pie(emoji_df, values='count', names='emoji')\n",
        "#fig.update_traces(textposition='inside', textinfo='percent+label')\n",
        "#fig.show()"
      ],
      "metadata": {
        "id": "O53o9HLJhHeJ"
      },
      "execution_count": 113,
      "outputs": []
    },
    {
      "cell_type": "code",
      "source": [
        "messagesdf['Time'].value_counts().head(10).plot.barh() # Top 10 Times of the day at which the most number of messages were sent\n",
        "plt.xlabel('Number of messages')\n",
        "plt.ylabel('Time')"
      ],
      "metadata": {
        "id": "FtKsyPavhqAU",
        "outputId": "d5b30aa4-2d5f-4d3f-b927-caef354b4486",
        "colab": {
          "base_uri": "https://localhost:8080/",
          "height": 296
        }
      },
      "execution_count": 111,
      "outputs": [
        {
          "output_type": "execute_result",
          "data": {
            "text/plain": [
              "Text(0, 0.5, 'Time')"
            ]
          },
          "metadata": {},
          "execution_count": 111
        },
        {
          "output_type": "display_data",
          "data": {
            "text/plain": [
              "<Figure size 432x288 with 1 Axes>"
            ],
            "image/png": "[encoded data removed]"
          },
          "metadata": {
            "needs_background": "light"
          }
        }
      ]
    }
  ]
}